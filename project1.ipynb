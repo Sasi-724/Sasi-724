{
  "nbformat": 4,
  "nbformat_minor": 0,
  "metadata": {
    "colab": {
      "name": "project1",
      "provenance": [],
      "authorship_tag": "ABX9TyM91bJekWJ7vZAn96tloq0W",
      "include_colab_link": true
    },
    "kernelspec": {
      "name": "python3",
      "display_name": "Python 3"
    },
    "language_info": {
      "name": "python"
    }
  },
  "cells": [
    {
      "cell_type": "markdown",
      "metadata": {
        "id": "view-in-github",
        "colab_type": "text"
      },
      "source": [
        "<a href=\"https://colab.research.google.com/github/Sasi-724/Sasi-724/blob/main/project1.ipynb\" target=\"_parent\"><img src=\"https://colab.research.google.com/assets/colab-badge.svg\" alt=\"Open In Colab\"/></a>"
      ]
    },
    {
      "cell_type": "code",
      "metadata": {
        "colab": {
          "base_uri": "https://localhost:8080/"
        },
        "id": "XxkU11jpXasS",
        "outputId": "f0ead65f-da79-43ca-afd2-73e5d8bf9926"
      },
      "source": [
        "import random\n",
        "def game(comp,you):\n",
        "  try:\n",
        "    if comp==you:\n",
        "      print(\"the game is a tie\")\n",
        "    elif comp=='s':\n",
        "      if you=='w':\n",
        "        print(\"you lose\")\n",
        "      elif you=='g':\n",
        "        print(\"you win\")\n",
        "    elif comp=='w':\n",
        "      if you=='s':\n",
        "        print(\"you win\")\n",
        "      elif you=='g':\n",
        "        print(\"you lose\")\n",
        "    elif comp=='g':\n",
        "      if you=='s':\n",
        "        print(\"you lose\")\n",
        "      elif you=='w':\n",
        "        print(\"you win!\")\n",
        "  except:\n",
        "      print(f\"chose only {s}or {g}or{w} \")\n",
        "\n",
        "print(\" comp:chose snake(s) water(w) gun(g)?\")\n",
        "randNo=random.randint(1,3)\n",
        "if randNo==1:\n",
        "  comp='s'\n",
        "elif randNo==2:\n",
        "  comp='w'\n",
        "elif randNo==3:\n",
        "  comp='g'\n",
        "you=input(\"enter snake(s) water(w) gun(g):\")\n",
        "a=game(comp,you)\n",
        "print(a)\n",
        "print(f\"computer chose :{comp}\")\n",
        "print(f\"you chose :{you}\")"
      ],
      "execution_count": 27,
      "outputs": [
        {
          "output_type": "stream",
          "text": [
            " comp:chose snake(s) water(w) gun(g)?\n",
            "enter snake(s) water(w) gun(g):g\n",
            "you win\n",
            "None\n",
            "computer chose :s\n",
            "you chose :g\n"
          ],
          "name": "stdout"
        }
      ]
    }
  ]
}